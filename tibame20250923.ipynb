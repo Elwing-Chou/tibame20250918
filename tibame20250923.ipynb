{
  "nbformat": 4,
  "nbformat_minor": 0,
  "metadata": {
    "colab": {
      "provenance": [],
      "authorship_tag": "ABX9TyMAedP21+WaB0EQz376antD",
      "include_colab_link": true
    },
    "kernelspec": {
      "name": "python3",
      "display_name": "Python 3"
    },
    "language_info": {
      "name": "python"
    }
  },
  "cells": [
    {
      "cell_type": "markdown",
      "metadata": {
        "id": "view-in-github",
        "colab_type": "text"
      },
      "source": [
        "<a href=\"https://colab.research.google.com/github/Elwing-Chou/tibame20250918/blob/main/tibame20250923.ipynb\" target=\"_parent\"><img src=\"https://colab.research.google.com/assets/colab-badge.svg\" alt=\"Open In Colab\"/></a>"
      ]
    },
    {
      "cell_type": "code",
      "execution_count": 11,
      "metadata": {
        "id": "KG8Z5b3mQ3yW"
      },
      "outputs": [],
      "source": [
        "def is_leap(year):\n",
        "    if year % 400 == 0:\n",
        "        leap = True\n",
        "    elif year % 100 == 0:\n",
        "        leap = False\n",
        "    elif year % 4 == 0:\n",
        "        leap = True\n",
        "    else:\n",
        "        leap = False\n",
        "    return leap"
      ]
    },
    {
      "cell_type": "code",
      "source": [
        "def is_date_valid(date_test):\n",
        "    # date_test = 20000230\n",
        "\n",
        "    # 先把年月份拆分出來\n",
        "    day = date_test % 100\n",
        "    remain = date_test // 100\n",
        "    month = remain % 100\n",
        "    year = remain // 100\n",
        "\n",
        "    if year > 0:\n",
        "        if 1 <= month <= 12:\n",
        "            day_per_month = [31, 28, 31, 30, 31, 30, 31, 31, 30, 31, 30, 31]\n",
        "            base_day = day_per_month[month-1]\n",
        "            if month == 2 and is_leap(year) == True:\n",
        "                base_day = base_day + 1\n",
        "            if 1 <= day <= base_day:\n",
        "                return True\n",
        "    return False"
      ],
      "metadata": {
        "id": "3O0g9VgfRR8b"
      },
      "execution_count": 3,
      "outputs": []
    },
    {
      "cell_type": "code",
      "source": [
        "i = 0\n",
        "while i < 10:\n",
        "    print(\"hello\")\n",
        "    i = i + 1"
      ],
      "metadata": {
        "id": "EvPagBtmSBJE"
      },
      "execution_count": null,
      "outputs": []
    },
    {
      "cell_type": "code",
      "source": [
        "import random\n",
        "\n",
        "# 紀錄2出現的次數, 3個2才結束\n",
        "count = 0\n",
        "while True:\n",
        "    dice = random.randint(1, 2)\n",
        "    print(dice)\n",
        "    if dice == 2:\n",
        "        count = count + 1\n",
        "    if count == 3:\n",
        "        break"
      ],
      "metadata": {
        "id": "6vH4BqS1Sk-K"
      },
      "execution_count": null,
      "outputs": []
    },
    {
      "cell_type": "code",
      "source": [
        "import time\n",
        "\n",
        "time_start = time.time()\n",
        "\n",
        "# 從4499 ** 2 開始 往後找10個完全平方日 告訴我這10個分別是多少\n",
        "start = 4499\n",
        "count = 0\n",
        "\n",
        "while True:\n",
        "    date_need_check = start * start\n",
        "    if is_date_valid(date_need_check) == True:\n",
        "        count = count + 1\n",
        "        # print(date_need_check, \"是一個完全平方日\")\n",
        "        # print(\"平方根是:\", start)\n",
        "    if count == 10:\n",
        "        break\n",
        "    start = start + 1\n",
        "\n",
        "time_end = time.time()\n",
        "print(\"執行時間:\", time_end - time_start)"
      ],
      "metadata": {
        "colab": {
          "base_uri": "https://localhost:8080/"
        },
        "id": "_ErjxzXTTwrg",
        "outputId": "dc24c686-d10d-49e0-cb29-9833867d73b0"
      },
      "execution_count": 16,
      "outputs": [
        {
          "output_type": "stream",
          "name": "stdout",
          "text": [
            "執行時間: 0.00041747093200683594\n"
          ]
        }
      ]
    },
    {
      "cell_type": "code",
      "source": [
        "import time\n",
        "time.time()"
      ],
      "metadata": {
        "colab": {
          "base_uri": "https://localhost:8080/"
        },
        "id": "I30GyveecuCZ",
        "outputId": "2094de96-f5d7-4201-a267-55371a85a721"
      },
      "execution_count": 15,
      "outputs": [
        {
          "output_type": "execute_result",
          "data": {
            "text/plain": [
              "1758628871.9440246"
            ]
          },
          "metadata": {},
          "execution_count": 15
        }
      ]
    }
  ]
}