{
  "nbformat": 4,
  "nbformat_minor": 0,
  "metadata": {
    "colab": {
      "provenance": [],
      "authorship_tag": "ABX9TyOtjIzG6y2ayD4cbBDsW7sQ",
      "include_colab_link": true
    },
    "kernelspec": {
      "name": "python3",
      "display_name": "Python 3"
    },
    "language_info": {
      "name": "python"
    }
  },
  "cells": [
    {
      "cell_type": "markdown",
      "metadata": {
        "id": "view-in-github",
        "colab_type": "text"
      },
      "source": [
        "<a href=\"https://colab.research.google.com/github/Elwing-Chou/tibame20250918/blob/main/tibame20250923.ipynb\" target=\"_parent\"><img src=\"https://colab.research.google.com/assets/colab-badge.svg\" alt=\"Open In Colab\"/></a>"
      ]
    },
    {
      "cell_type": "code",
      "execution_count": 2,
      "metadata": {
        "id": "KG8Z5b3mQ3yW"
      },
      "outputs": [],
      "source": [
        "def is_leap(year):\n",
        "    if year % 400 == 0:\n",
        "        leap = True\n",
        "    elif year % 100 == 0:\n",
        "        leap = False\n",
        "    elif year % 4 == 0:\n",
        "        leap = True\n",
        "    else:\n",
        "        leap = False\n",
        "    return leap"
      ]
    },
    {
      "cell_type": "code",
      "source": [
        "def is_date_valid(date_test):\n",
        "    # date_test = 20000230\n",
        "\n",
        "    # 先把年月份拆分出來\n",
        "    day = date_test % 100\n",
        "    remain = date_test // 100\n",
        "    month = remain % 100\n",
        "    year = remain // 100\n",
        "\n",
        "    if year > 0:\n",
        "        if 1 <= month <= 12:\n",
        "            day_per_month = [31, 28, 31, 30, 31, 30, 31, 31, 30, 31, 30, 31]\n",
        "            base_day = day_per_month[month-1]\n",
        "            if month == 2 and is_leap(year) == True:\n",
        "                base_day = base_day + 1\n",
        "            if 1 <= day <= base_day:\n",
        "                return True\n",
        "    return False"
      ],
      "metadata": {
        "id": "3O0g9VgfRR8b"
      },
      "execution_count": 3,
      "outputs": []
    }
  ]
}