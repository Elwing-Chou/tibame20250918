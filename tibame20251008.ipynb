{
  "nbformat": 4,
  "nbformat_minor": 0,
  "metadata": {
    "colab": {
      "provenance": [],
      "authorship_tag": "ABX9TyN0Dd/rgUDMAQ83LWpOqt4X",
      "include_colab_link": true
    },
    "kernelspec": {
      "name": "python3",
      "display_name": "Python 3"
    },
    "language_info": {
      "name": "python"
    }
  },
  "cells": [
    {
      "cell_type": "markdown",
      "metadata": {
        "id": "view-in-github",
        "colab_type": "text"
      },
      "source": [
        "<a href=\"https://colab.research.google.com/github/Elwing-Chou/tibame20250918/blob/main/tibame20251008.ipynb\" target=\"_parent\"><img src=\"https://colab.research.google.com/assets/colab-badge.svg\" alt=\"Open In Colab\"/></a>"
      ]
    },
    {
      "cell_type": "markdown",
      "source": [
        "\n",
        "\n",
        "```\n",
        "Python群集型態:\n",
        "1. List: 一群同類型東西 [] *如果你放不同類型的, 語法沒錯, 但習慣很有問題\n",
        "list的key是python偷給的: 0 1 2 3\n",
        "拿值: list[0]\n",
        "\n",
        "2. Dict: 表示一個複雜單位的 {key:value}\n",
        "dict的key是妳自訂的(字串當作key是妳現在最常用的)\n",
        "拿值: dict[\"姓名\"]\n",
        "\n",
        "3. Set\n",
        "4. Tuple\n",
        "\n",
        "學生清單: [{學生}, {學生}, {學生}]\n",
        "\n",
        "學生: {\n",
        "    \"姓名\": \"Elwing\",\n",
        "    \"年齡\": xx,\n",
        "}\n",
        "\n",
        "```\n"
      ],
      "metadata": {
        "id": "UgPxa4x9nnom"
      }
    },
    {
      "cell_type": "code",
      "source": [],
      "metadata": {
        "id": "dw8l8LdHpYbi"
      },
      "execution_count": null,
      "outputs": []
    }
  ]
}