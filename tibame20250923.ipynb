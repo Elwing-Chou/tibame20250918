{
  "nbformat": 4,
  "nbformat_minor": 0,
  "metadata": {
    "colab": {
      "provenance": [],
      "authorship_tag": "ABX9TyNvR2k1qHRjQXpMlGJWFb7M",
      "include_colab_link": true
    },
    "kernelspec": {
      "name": "python3",
      "display_name": "Python 3"
    },
    "language_info": {
      "name": "python"
    }
  },
  "cells": [
    {
      "cell_type": "markdown",
      "metadata": {
        "id": "view-in-github",
        "colab_type": "text"
      },
      "source": [
        "<a href=\"https://colab.research.google.com/github/Elwing-Chou/tibame20250918/blob/main/tibame20250923.ipynb\" target=\"_parent\"><img src=\"https://colab.research.google.com/assets/colab-badge.svg\" alt=\"Open In Colab\"/></a>"
      ]
    },
    {
      "cell_type": "code",
      "execution_count": 11,
      "metadata": {
        "id": "KG8Z5b3mQ3yW"
      },
      "outputs": [],
      "source": [
        "def is_leap(year):\n",
        "    if year % 400 == 0:\n",
        "        leap = True\n",
        "    elif year % 100 == 0:\n",
        "        leap = False\n",
        "    elif year % 4 == 0:\n",
        "        leap = True\n",
        "    else:\n",
        "        leap = False\n",
        "    return leap"
      ]
    },
    {
      "cell_type": "code",
      "source": [
        "def is_date_valid(date_test):\n",
        "    # date_test = 20000230\n",
        "\n",
        "    # 先把年月份拆分出來\n",
        "    day = date_test % 100\n",
        "    remain = date_test // 100\n",
        "    month = remain % 100\n",
        "    year = remain // 100\n",
        "\n",
        "    if year > 0:\n",
        "        if 1 <= month <= 12:\n",
        "            day_per_month = [31, 28, 31, 30, 31, 30, 31, 31, 30, 31, 30, 31]\n",
        "            base_day = day_per_month[month-1]\n",
        "            if month == 2 and is_leap(year) == True:\n",
        "                base_day = base_day + 1\n",
        "            if 1 <= day <= base_day:\n",
        "                return True\n",
        "    return False"
      ],
      "metadata": {
        "id": "3O0g9VgfRR8b"
      },
      "execution_count": 3,
      "outputs": []
    },
    {
      "cell_type": "code",
      "source": [
        "i = 0\n",
        "while i < 10:\n",
        "    print(\"hello\")\n",
        "    i = i + 1"
      ],
      "metadata": {
        "id": "EvPagBtmSBJE"
      },
      "execution_count": null,
      "outputs": []
    },
    {
      "cell_type": "code",
      "source": [
        "import random\n",
        "\n",
        "# 紀錄2出現的次數, 3個2才結束\n",
        "count = 0\n",
        "while True:\n",
        "    dice = random.randint(1, 2)\n",
        "    print(dice)\n",
        "    if dice == 2:\n",
        "        count = count + 1\n",
        "    if count == 3:\n",
        "        break"
      ],
      "metadata": {
        "id": "6vH4BqS1Sk-K"
      },
      "execution_count": null,
      "outputs": []
    },
    {
      "cell_type": "code",
      "source": [
        "import time\n",
        "\n",
        "time_start = time.time()\n",
        "\n",
        "# 從4499 ** 2 開始 往後找10個完全平方日 告訴我這10個分別是多少\n",
        "start = 4499\n",
        "count = 0\n",
        "\n",
        "while True:\n",
        "    date_need_check = start * start\n",
        "    if is_date_valid(date_need_check) == True:\n",
        "        count = count + 1\n",
        "        print(date_need_check, \"是一個完全平方日\")\n",
        "        print(\"平方根是:\", start)\n",
        "    if count == 10:\n",
        "        break\n",
        "    start = start + 1\n",
        "\n",
        "time_end = time.time()\n",
        "print(\"執行時間:\", time_end - time_start)"
      ],
      "metadata": {
        "colab": {
          "base_uri": "https://localhost:8080/"
        },
        "id": "_ErjxzXTTwrg",
        "outputId": "719475f1-7900-40cf-f1fe-6c45b54ffb24"
      },
      "execution_count": 44,
      "outputs": [
        {
          "output_type": "stream",
          "name": "stdout",
          "text": [
            "20241001 是一個完全平方日\n",
            "平方根是: 4499\n",
            "20720704 是一個完全平方日\n",
            "平方根是: 4552\n",
            "20930625 是一個完全平方日\n",
            "平方根是: 4575\n",
            "21150801 是一個完全平方日\n",
            "平方根是: 4599\n",
            "21390625 是一個完全平方日\n",
            "平方根是: 4625\n",
            "21520321 是一個完全平方日\n",
            "平方根是: 4639\n",
            "21641104 是一個完全平方日\n",
            "平方根是: 4652\n",
            "21650409 是一個完全平方日\n",
            "平方根是: 4653\n",
            "21790224 是一個完全平方日\n",
            "平方根是: 4668\n",
            "21921124 是一個完全平方日\n",
            "平方根是: 4682\n",
            "執行時間: 0.0005087852478027344\n"
          ]
        }
      ]
    },
    {
      "cell_type": "code",
      "source": [
        "import time\n",
        "time.time()"
      ],
      "metadata": {
        "colab": {
          "base_uri": "https://localhost:8080/"
        },
        "id": "I30GyveecuCZ",
        "outputId": "2094de96-f5d7-4201-a267-55371a85a721"
      },
      "execution_count": 15,
      "outputs": [
        {
          "output_type": "execute_result",
          "data": {
            "text/plain": [
              "1758628871.9440246"
            ]
          },
          "metadata": {},
          "execution_count": 15
        }
      ]
    },
    {
      "cell_type": "code",
      "source": [
        "import datetime as dt\n",
        "# 創造日期時間\n",
        "d = dt.datetime(2024, 2, 28)\n",
        "# 日期時間的增加減少\n",
        "delta = dt.timedelta(days=1)\n",
        "# 增加的話: d + delta\n",
        "# 變成 20241001 -> 轉成整數\n",
        "d_int = int(d.strftime(\"%Y%m%d\"))\n",
        "d_int_rooted = d_int ** 0.5\n",
        "print(d_int_rooted)\n",
        "# 確定可以開根號成整數:\n",
        "# 小數不是一個精確數, 小數的比較不是兩個小數相等, 而是小數相差極小\n",
        "# 開根號完的小數 跟 整數部分 直接相減\n",
        "dif = abs(d_int_rooted - round(d_int_rooted))\n",
        "if dif < 0.000001:\n",
        "    print(\"確實可以開根號成整數\")\n",
        "else:\n",
        "    print(\"不可以開根號成整數\")"
      ],
      "metadata": {
        "colab": {
          "base_uri": "https://localhost:8080/"
        },
        "id": "VycwIdregiYc",
        "outputId": "2e86a9d3-38c7-4285-e400-128d3ac85067"
      },
      "execution_count": 43,
      "outputs": [
        {
          "output_type": "stream",
          "name": "stdout",
          "text": [
            "4498.914091200231\n",
            "不可以開根號成整數\n"
          ]
        }
      ]
    },
    {
      "cell_type": "code",
      "source": [
        "# 創一個datetime(2024, 10, 1)\n",
        "# 一直數直到你找到十個完全平方日\n",
        "import datetime as dt\n",
        "\n",
        "start = dt.datetime(2024, 10, 1)\n",
        "delta = dt.timedelta(days=1)\n",
        "count = 0\n",
        "while True:\n",
        "    # 我先把日期換成數字\n",
        "    d_int = int(start.strftime(\"%Y%m%d\"))\n",
        "    # 確定這個數字可以開根號成整數\n",
        "    d_int_rooted = d_int ** 0.5\n",
        "    dif = abs(d_int_rooted - round(d_int_rooted))\n",
        "    if dif < 0.000001:\n",
        "        print(\"確實可以開根號成整數\")\n",
        "        count = count + 1\n",
        "        print(d_int, \"是個完全平方日\")\n",
        "    if count == 10:\n",
        "        break\n",
        "    # 做完全部的邏輯以後把日期往後一天\n",
        "    start = start + delta"
      ],
      "metadata": {
        "colab": {
          "base_uri": "https://localhost:8080/"
        },
        "id": "SY9FINJJmVL7",
        "outputId": "415926a9-cb89-46a9-d714-6f9d483fa732"
      },
      "execution_count": 51,
      "outputs": [
        {
          "output_type": "stream",
          "name": "stdout",
          "text": [
            "確實可以開根號成整數\n",
            "20720704 是個完全平方日\n",
            "確實可以開根號成整數\n",
            "20930625 是個完全平方日\n",
            "確實可以開根號成整數\n",
            "21150801 是個完全平方日\n",
            "確實可以開根號成整數\n",
            "21390625 是個完全平方日\n",
            "確實可以開根號成整數\n",
            "21520321 是個完全平方日\n",
            "確實可以開根號成整數\n",
            "21641104 是個完全平方日\n",
            "確實可以開根號成整數\n",
            "21650409 是個完全平方日\n",
            "確實可以開根號成整數\n",
            "21790224 是個完全平方日\n",
            "確實可以開根號成整數\n",
            "21921124 是個完全平方日\n",
            "確實可以開根號成整數\n",
            "22071204 是個完全平方日\n"
          ]
        }
      ]
    }
  ]
}