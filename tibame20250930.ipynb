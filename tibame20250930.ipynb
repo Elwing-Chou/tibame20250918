{
  "nbformat": 4,
  "nbformat_minor": 0,
  "metadata": {
    "colab": {
      "provenance": [],
      "authorship_tag": "ABX9TyNmVoSLttlEQW1YigPi9cuM",
      "include_colab_link": true
    },
    "kernelspec": {
      "name": "python3",
      "display_name": "Python 3"
    },
    "language_info": {
      "name": "python"
    }
  },
  "cells": [
    {
      "cell_type": "markdown",
      "metadata": {
        "id": "view-in-github",
        "colab_type": "text"
      },
      "source": [
        "<a href=\"https://colab.research.google.com/github/Elwing-Chou/tibame20250918/blob/main/tibame20250930.ipynb\" target=\"_parent\"><img src=\"https://colab.research.google.com/assets/colab-badge.svg\" alt=\"Open In Colab\"/></a>"
      ]
    },
    {
      "cell_type": "code",
      "execution_count": null,
      "metadata": {
        "id": "B33Gkt5HTaw2"
      },
      "outputs": [],
      "source": [
        "import pygame as pg\n",
        "\n",
        "#pygame初始化\n",
        "pg.init()\n",
        "#設定視窗\n",
        "width, height = 640, 640\n",
        "# 產生視窗\n",
        "screen = pg.display.set_mode([width, height])\n",
        "# 設定遊戲標題\n",
        "pg.display.set_caption(\"五子棋\")\n",
        "# 建立畫布bg\n",
        "bg = pg.Surface(screen.get_size())\n",
        "# 把畫布填滿某個顏色\n",
        "bg.fill([199, 167, 82])\n",
        "\n",
        "# 畫棋盤直線\n",
        "# line(surface, color, start_pos, end_pos, width=1)\n",
        "i = 0\n",
        "while i < 15:\n",
        "    pg.draw.line(bg, [50, 50, 50], [40*i+40, 40], [40*i+40, 600], 2)\n",
        "    i = i + 1\n",
        "\n",
        "i = 0\n",
        "while i < 15:\n",
        "    pg.draw.line(bg, [50, 50, 50], [40, 40*i+40], [600, 40*i+40], 2)\n",
        "    i = i + 1\n",
        "\n",
        "# 把某個圖層貼到上一層\n",
        "screen.blit(bg, [0, 0])\n",
        "# 對畫面進行更新(才會真的秀出來)\n",
        "pg.display.update()\n",
        "\n",
        "# 紀錄回合\n",
        "game_round = 0\n",
        "running = True\n",
        "while running:\n",
        "    for event in pg.event.get():\n",
        "        # 如果滑鼠被點\n",
        "        if event.type == pg.MOUSEBUTTONUP:\n",
        "            x, y = pg.mouse.get_pos()\n",
        "            # 40 80 120 -> 1 2 3\n",
        "            # 如果位置是(60, 60) -> (1.5, 1.5)\n",
        "            x_inter, y_inter = x / 40, y / 40\n",
        "            # (1.5, 1.5) -> (2, 2)\n",
        "            x_line, y_line = round(x_inter), round(y_inter)\n",
        "            # 如果四捨五入以後是0th or 16th 沒在棋盤上\n",
        "            if 1 <= x_line <= 15 and 1 <= y_line <= 15:\n",
        "                # 第幾條線 -> 換回成座標\n",
        "                circle_x, circle_y = x_line * 40, y_line * 40\n",
        "                # circle(surface, color, center, radius)\n",
        "                if game_round % 2 == 0:\n",
        "                    player_color = [0, 0, 0]\n",
        "                else:\n",
        "                    player_color = [255, 255, 255]\n",
        "                pg.draw.circle(bg, player_color, [circle_x, circle_y], 20)\n",
        "                # 合理的落子: 回合+1\n",
        "                game_round = game_round + 1\n",
        "                # 要顯示記得在貼一次\n",
        "                screen.blit(bg, [0, 0])\n",
        "                pg.display.update()\n",
        "\n",
        "        # 如果收到的事件是按x\n",
        "        if event.type == pg.QUIT:\n",
        "            # 迴圈就會變成while False\n",
        "            running = False\n",
        "        # 結束遊戲\n",
        "pg.quit()"
      ]
    }
  ]
}