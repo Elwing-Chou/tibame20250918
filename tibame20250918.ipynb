{
  "nbformat": 4,
  "nbformat_minor": 0,
  "metadata": {
    "colab": {
      "provenance": [],
      "authorship_tag": "ABX9TyM/0fkGDl93bysGRVFrGAe/",
      "include_colab_link": true
    },
    "kernelspec": {
      "name": "python3",
      "display_name": "Python 3"
    },
    "language_info": {
      "name": "python"
    }
  },
  "cells": [
    {
      "cell_type": "markdown",
      "metadata": {
        "id": "view-in-github",
        "colab_type": "text"
      },
      "source": [
        "<a href=\"https://colab.research.google.com/github/Elwing-Chou/tibame20250918/blob/main/tibame20250918.ipynb\" target=\"_parent\"><img src=\"https://colab.research.google.com/assets/colab-badge.svg\" alt=\"Open In Colab\"/></a>"
      ]
    },
    {
      "cell_type": "markdown",
      "source": [
        "\n",
        "```\n",
        "colab: 線上Jupyter Notebook\n",
        "\n",
        "python的工具:\n",
        ".py:\n",
        "最正宗的python檔案\n",
        "\n",
        ".ipynb:\n",
        "python的jupyter notebook工具所產生的檔案, 可以用很多獨立的段落寫\n",
        "\n",
        "\n",
        "```\n",
        "\n"
      ],
      "metadata": {
        "id": "MixuTa6hkZRC"
      }
    },
    {
      "cell_type": "code",
      "execution_count": null,
      "metadata": {
        "id": "kutNr_-Pis5b"
      },
      "outputs": [],
      "source": []
    }
  ]
}