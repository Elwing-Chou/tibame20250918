{
  "nbformat": 4,
  "nbformat_minor": 0,
  "metadata": {
    "colab": {
      "provenance": [],
      "authorship_tag": "ABX9TyOWGbpQE0CpIxkYCADFr+rl",
      "include_colab_link": true
    },
    "kernelspec": {
      "name": "python3",
      "display_name": "Python 3"
    },
    "language_info": {
      "name": "python"
    }
  },
  "cells": [
    {
      "cell_type": "markdown",
      "metadata": {
        "id": "view-in-github",
        "colab_type": "text"
      },
      "source": [
        "<a href=\"https://colab.research.google.com/github/Elwing-Chou/tibame20250918/blob/main/tibame20250930.ipynb\" target=\"_parent\"><img src=\"https://colab.research.google.com/assets/colab-badge.svg\" alt=\"Open In Colab\"/></a>"
      ]
    },
    {
      "cell_type": "code",
      "execution_count": null,
      "metadata": {
        "id": "B33Gkt5HTaw2"
      },
      "outputs": [],
      "source": [
        "import pygame as pg\n",
        "\n",
        "#pygame初始化\n",
        "pg.init()\n",
        "#設定視窗\n",
        "width, height = 640, 640\n",
        "# 產生視窗\n",
        "screen = pg.display.set_mode([width, height])\n",
        "# 設定遊戲標題\n",
        "pg.display.set_caption(\"五子棋\")\n",
        "# 建立畫布bg\n",
        "bg = pg.Surface(screen.get_size())\n",
        "# 把畫布填滿某個顏色\n",
        "bg.fill([199, 167, 82])\n",
        "\n",
        "# 畫棋盤直線\n",
        "# line(surface, color, start_pos, end_pos, width=1)\n",
        "i = 0\n",
        "while i < 15:\n",
        "    pg.draw.line(bg, [50, 50, 50], [40*i+40, 40], [40*i+40, 600], 2)\n",
        "    i = i + 1\n",
        "\n",
        "i = 0\n",
        "while i < 15:\n",
        "    pg.draw.line(bg, [50, 50, 50], [40, 40*i+40], [600, 40*i+40], 2)\n",
        "    i = i + 1\n",
        "\n",
        "# 把某個圖層貼到上一層\n",
        "screen.blit(bg, [0, 0])\n",
        "# 對畫面進行更新(才會真的秀出來)\n",
        "pg.display.update()\n",
        "\n",
        "# 紀錄回合\n",
        "game_round = 0\n",
        "running = True\n",
        "while running:\n",
        "    for event in pg.event.get():\n",
        "        # 如果滑鼠被點\n",
        "        if event.type == pg.MOUSEBUTTONUP:\n",
        "            x, y = pg.mouse.get_pos()\n",
        "            # 40 80 120 -> 1 2 3\n",
        "            # 如果位置是(60, 60) -> (1.5, 1.5)\n",
        "            x_inter, y_inter = x / 40, y / 40\n",
        "            # (1.5, 1.5) -> (2, 2)\n",
        "            x_line, y_line = round(x_inter), round(y_inter)\n",
        "            # 如果四捨五入以後是0th or 16th 沒在棋盤上\n",
        "            if 1 <= x_line <= 15 and 1 <= y_line <= 15:\n",
        "                # 第幾條線 -> 換回成座標\n",
        "                circle_x, circle_y = x_line * 40, y_line * 40\n",
        "                # circle(surface, color, center, radius)\n",
        "                if game_round % 2 == 0:\n",
        "                    player_color = [0, 0, 0]\n",
        "                else:\n",
        "                    player_color = [255, 255, 255]\n",
        "                pg.draw.circle(bg, player_color, [circle_x, circle_y], 20)\n",
        "                # 合理的落子: 回合+1\n",
        "                game_round = game_round + 1\n",
        "                # 要顯示記得在貼一次\n",
        "                screen.blit(bg, [0, 0])\n",
        "                pg.display.update()\n",
        "\n",
        "        # 如果收到的事件是按x\n",
        "        if event.type == pg.QUIT:\n",
        "            # 迴圈就會變成while False\n",
        "            running = False\n",
        "        # 結束遊戲\n",
        "pg.quit()"
      ]
    },
    {
      "cell_type": "markdown",
      "source": [
        "\n",
        "\n",
        "```\n",
        "編碼: a 我 -> 01001\n",
        "解碼: 01001 -> a\n",
        "\n",
        "亂碼: 編碼=/=亂碼\n",
        "\n",
        "現在的編碼只有一套: 萬國碼(Unicode)的utf-8\n",
        "\n",
        "英文在當初的編碼叫做ASCII, ASCII編碼和utf-8裡的英文編碼是一樣的\n",
        "\n",
        "ord(文字) -> 文字轉編碼\n",
        "chr(數字) -> 編碼轉文字\n",
        "\n",
        "```\n",
        "\n"
      ],
      "metadata": {
        "id": "o74jOaqGcnWc"
      }
    },
    {
      "cell_type": "code",
      "source": [
        "print(ord(\"我\"))\n",
        "print(chr(25105))"
      ],
      "metadata": {
        "colab": {
          "base_uri": "https://localhost:8080/"
        },
        "id": "XuAMwYf_e9db",
        "outputId": "64f13b6a-6a72-4fbc-ff92-6353d0ea33c6"
      },
      "execution_count": 6,
      "outputs": [
        {
          "output_type": "stream",
          "name": "stdout",
          "text": [
            "25105\n",
            "我\n"
          ]
        }
      ]
    },
    {
      "cell_type": "markdown",
      "source": [
        "\n",
        "\n",
        "```\n",
        "b c d    z a\n",
        "98 99 100    122 97\n",
        "1   2   3     25  0\n",
        "\n",
        "```\n",
        "\n"
      ],
      "metadata": {
        "id": "ieiqw_HchgpK"
      }
    },
    {
      "cell_type": "markdown",
      "source": [
        "\n",
        "\n",
        "```\n",
        "印出一列\n",
        "印出有偏移的一列\n",
        "把有偏移的一列做26次\n",
        "修改偏移\n",
        "```\n",
        "\n"
      ],
      "metadata": {
        "id": "atR8MIOuo0dq"
      }
    },
    {
      "cell_type": "code",
      "source": [
        "# 雙層迴圈的練習\n",
        "# a b c d e f --- z\n",
        "# b c d e f g --- a\n",
        "# c d e f g h --- b\n",
        "for i in range(26):\n",
        "    line = \"\"\n",
        "    # 做26次\n",
        "    offset = i\n",
        "    for j in range(26):\n",
        "        # 0-25 -> 1-26\n",
        "        j_offset = j + offset\n",
        "        # 1-26 -> 1-25 0\n",
        "        j_offset = j_offset % 26\n",
        "        # 1-25 0 -> 98 122  97\n",
        "        n = j_offset + 97\n",
        "        line = line + chr(n)\n",
        "    print(line)"
      ],
      "metadata": {
        "id": "k7ARDT4raZVQ"
      },
      "execution_count": null,
      "outputs": []
    },
    {
      "cell_type": "code",
      "source": [
        "# 99 乘法表\n",
        "# 1 x 1 = 1\n",
        "# 1 x 2 = 2\n",
        "# 1 x 3 = 3\n",
        "# 1 x 9 = 9\n",
        "# 2 x 1 = 2\n",
        "\n",
        "for i in range(9):\n",
        "    # 1 x 1 ~ 1 x 9\n",
        "    n1 = i + 1\n",
        "    for j in range(9):\n",
        "        n2 = j + 1\n",
        "        ans = n1 * n2\n",
        "        print(n1, \"x\", n2, \"=\", ans)"
      ],
      "metadata": {
        "id": "2c2Y6JaDpxEy"
      },
      "execution_count": null,
      "outputs": []
    },
    {
      "cell_type": "code",
      "source": [
        "a = [\n",
        "    [0, 1],\n",
        "    [2, 3],\n",
        "    [4, 5]\n",
        "]\n",
        "print(a[2][0])\n",
        "print(a[0][1])"
      ],
      "metadata": {
        "colab": {
          "base_uri": "https://localhost:8080/"
        },
        "id": "x4csljAssoYU",
        "outputId": "1514d233-347c-4485-e8a5-6d3c3998e86f"
      },
      "execution_count": 41,
      "outputs": [
        {
          "output_type": "stream",
          "name": "stdout",
          "text": [
            "4\n",
            "1\n"
          ]
        }
      ]
    },
    {
      "cell_type": "code",
      "source": [
        "a = [0] * 9\n",
        "print(a)\n",
        "\n",
        "# 1 ... 9\n",
        "# 完整作法\n",
        "a = []\n",
        "for i in range(9):\n",
        "    a.append(i+1)\n",
        "print(a)\n",
        "\n",
        "# 簡便的作法\n",
        "a = [i+1 for i in range(9)]\n",
        "print(a)\n",
        "\n",
        "# 準備一個空的9 * 9 的list\n",
        "a = [[0] * 9 for i in range(9)]\n",
        "print(a)"
      ],
      "metadata": {
        "colab": {
          "base_uri": "https://localhost:8080/"
        },
        "id": "geIZn9uVxQ38",
        "outputId": "c5a506e8-c498-4c0e-b3ed-1df2e4204116"
      },
      "execution_count": 51,
      "outputs": [
        {
          "output_type": "stream",
          "name": "stdout",
          "text": [
            "[0, 0, 0, 0, 0, 0, 0, 0, 0]\n",
            "[1, 2, 3, 4, 5, 6, 7, 8, 9]\n",
            "[1, 2, 3, 4, 5, 6, 7, 8, 9]\n",
            "[[0, 0, 0, 0, 0, 0, 0, 0, 0], [0, 0, 0, 0, 0, 0, 0, 0, 0], [0, 0, 0, 0, 0, 0, 0, 0, 0], [0, 0, 0, 0, 0, 0, 0, 0, 0], [0, 0, 0, 0, 0, 0, 0, 0, 0], [0, 0, 0, 0, 0, 0, 0, 0, 0], [0, 0, 0, 0, 0, 0, 0, 0, 0], [0, 0, 0, 0, 0, 0, 0, 0, 0], [0, 0, 0, 0, 0, 0, 0, 0, 0]]\n"
          ]
        }
      ]
    },
    {
      "cell_type": "code",
      "source": [
        "chart = [[0] * 9 for i in range(9)]\n",
        "# [\n",
        "#     [0, 1, 2, ..., 8],\n",
        "#     [0, 2, 6, ..., 16],\n",
        "#     [0, 6, 9, ..., 24],\n",
        "#     [0, 9, 18,..., 72]\n",
        "# ]\n",
        "\n",
        "for i in range(9):\n",
        "    n1 = i + 1\n",
        "    for j in range(9):\n",
        "        # 故意調整的, 怕擬設錯還對\n",
        "        n2 = j\n",
        "        ans = n1 * n2\n",
        "        print(n1, \"x\", n2, \"=\", ans)"
      ],
      "metadata": {
        "colab": {
          "base_uri": "https://localhost:8080/"
        },
        "id": "_Gc8yWSCxBq_",
        "outputId": "3b9033fb-c54e-4a2e-a80e-c2eb0a9cce48"
      },
      "execution_count": 52,
      "outputs": [
        {
          "output_type": "stream",
          "name": "stdout",
          "text": [
            "1 x 0 = 0\n",
            "1 x 1 = 1\n",
            "1 x 2 = 2\n",
            "1 x 3 = 3\n",
            "1 x 4 = 4\n",
            "1 x 5 = 5\n",
            "1 x 6 = 6\n",
            "1 x 7 = 7\n",
            "1 x 8 = 8\n",
            "2 x 0 = 0\n",
            "2 x 1 = 2\n",
            "2 x 2 = 4\n",
            "2 x 3 = 6\n",
            "2 x 4 = 8\n",
            "2 x 5 = 10\n",
            "2 x 6 = 12\n",
            "2 x 7 = 14\n",
            "2 x 8 = 16\n",
            "3 x 0 = 0\n",
            "3 x 1 = 3\n",
            "3 x 2 = 6\n",
            "3 x 3 = 9\n",
            "3 x 4 = 12\n",
            "3 x 5 = 15\n",
            "3 x 6 = 18\n",
            "3 x 7 = 21\n",
            "3 x 8 = 24\n",
            "4 x 0 = 0\n",
            "4 x 1 = 4\n",
            "4 x 2 = 8\n",
            "4 x 3 = 12\n",
            "4 x 4 = 16\n",
            "4 x 5 = 20\n",
            "4 x 6 = 24\n",
            "4 x 7 = 28\n",
            "4 x 8 = 32\n",
            "5 x 0 = 0\n",
            "5 x 1 = 5\n",
            "5 x 2 = 10\n",
            "5 x 3 = 15\n",
            "5 x 4 = 20\n",
            "5 x 5 = 25\n",
            "5 x 6 = 30\n",
            "5 x 7 = 35\n",
            "5 x 8 = 40\n",
            "6 x 0 = 0\n",
            "6 x 1 = 6\n",
            "6 x 2 = 12\n",
            "6 x 3 = 18\n",
            "6 x 4 = 24\n",
            "6 x 5 = 30\n",
            "6 x 6 = 36\n",
            "6 x 7 = 42\n",
            "6 x 8 = 48\n",
            "7 x 0 = 0\n",
            "7 x 1 = 7\n",
            "7 x 2 = 14\n",
            "7 x 3 = 21\n",
            "7 x 4 = 28\n",
            "7 x 5 = 35\n",
            "7 x 6 = 42\n",
            "7 x 7 = 49\n",
            "7 x 8 = 56\n",
            "8 x 0 = 0\n",
            "8 x 1 = 8\n",
            "8 x 2 = 16\n",
            "8 x 3 = 24\n",
            "8 x 4 = 32\n",
            "8 x 5 = 40\n",
            "8 x 6 = 48\n",
            "8 x 7 = 56\n",
            "8 x 8 = 64\n",
            "9 x 0 = 0\n",
            "9 x 1 = 9\n",
            "9 x 2 = 18\n",
            "9 x 3 = 27\n",
            "9 x 4 = 36\n",
            "9 x 5 = 45\n",
            "9 x 6 = 54\n",
            "9 x 7 = 63\n",
            "9 x 8 = 72\n"
          ]
        }
      ]
    },
    {
      "cell_type": "code",
      "source": [
        "# 退接\n",
        "# 0 1 ... 9\n",
        "# 1 2     0\n",
        "# 2 3     1"
      ],
      "metadata": {
        "id": "7R8OtZqAct4w"
      },
      "execution_count": null,
      "outputs": []
    }
  ]
}