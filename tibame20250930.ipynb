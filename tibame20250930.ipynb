{
  "nbformat": 4,
  "nbformat_minor": 0,
  "metadata": {
    "colab": {
      "provenance": [],
      "authorship_tag": "ABX9TyMBgmNedtNDUScme7En5Jth",
      "include_colab_link": true
    },
    "kernelspec": {
      "name": "python3",
      "display_name": "Python 3"
    },
    "language_info": {
      "name": "python"
    }
  },
  "cells": [
    {
      "cell_type": "markdown",
      "metadata": {
        "id": "view-in-github",
        "colab_type": "text"
      },
      "source": [
        "<a href=\"https://colab.research.google.com/github/Elwing-Chou/tibame20250918/blob/main/tibame20250930.ipynb\" target=\"_parent\"><img src=\"https://colab.research.google.com/assets/colab-badge.svg\" alt=\"Open In Colab\"/></a>"
      ]
    },
    {
      "cell_type": "code",
      "execution_count": null,
      "metadata": {
        "id": "B33Gkt5HTaw2"
      },
      "outputs": [],
      "source": [
        "import pygame as pg\n",
        "\n",
        "#pygame初始化\n",
        "pg.init()\n",
        "#設定視窗\n",
        "width, height = 640, 640\n",
        "# 產生視窗\n",
        "screen = pg.display.set_mode([width, height])\n",
        "# 設定遊戲標題\n",
        "pg.display.set_caption(\"五子棋\")\n",
        "# 建立畫布bg\n",
        "bg = pg.Surface(screen.get_size())\n",
        "# 把畫布填滿某個顏色\n",
        "bg.fill([199, 167, 82])\n",
        "\n",
        "# 畫棋盤直線\n",
        "# line(surface, color, start_pos, end_pos, width=1)\n",
        "i = 0\n",
        "while i < 15:\n",
        "    pg.draw.line(bg, [50, 50, 50], [40*i+40, 40], [40*i+40, 600], 2)\n",
        "    i = i + 1\n",
        "\n",
        "i = 0\n",
        "while i < 15:\n",
        "    pg.draw.line(bg, [50, 50, 50], [40, 40*i+40], [600, 40*i+40], 2)\n",
        "    i = i + 1\n",
        "\n",
        "# 把某個圖層貼到上一層\n",
        "screen.blit(bg, [0, 0])\n",
        "# 對畫面進行更新(才會真的秀出來)\n",
        "pg.display.update()\n",
        "\n",
        "# 紀錄回合\n",
        "game_round = 0\n",
        "running = True\n",
        "while running:\n",
        "    for event in pg.event.get():\n",
        "        # 如果滑鼠被點\n",
        "        if event.type == pg.MOUSEBUTTONUP:\n",
        "            x, y = pg.mouse.get_pos()\n",
        "            # 40 80 120 -> 1 2 3\n",
        "            # 如果位置是(60, 60) -> (1.5, 1.5)\n",
        "            x_inter, y_inter = x / 40, y / 40\n",
        "            # (1.5, 1.5) -> (2, 2)\n",
        "            x_line, y_line = round(x_inter), round(y_inter)\n",
        "            # 如果四捨五入以後是0th or 16th 沒在棋盤上\n",
        "            if 1 <= x_line <= 15 and 1 <= y_line <= 15:\n",
        "                # 第幾條線 -> 換回成座標\n",
        "                circle_x, circle_y = x_line * 40, y_line * 40\n",
        "                # circle(surface, color, center, radius)\n",
        "                if game_round % 2 == 0:\n",
        "                    player_color = [0, 0, 0]\n",
        "                else:\n",
        "                    player_color = [255, 255, 255]\n",
        "                pg.draw.circle(bg, player_color, [circle_x, circle_y], 20)\n",
        "                # 合理的落子: 回合+1\n",
        "                game_round = game_round + 1\n",
        "                # 要顯示記得在貼一次\n",
        "                screen.blit(bg, [0, 0])\n",
        "                pg.display.update()\n",
        "\n",
        "        # 如果收到的事件是按x\n",
        "        if event.type == pg.QUIT:\n",
        "            # 迴圈就會變成while False\n",
        "            running = False\n",
        "        # 結束遊戲\n",
        "pg.quit()"
      ]
    },
    {
      "cell_type": "markdown",
      "source": [
        "\n",
        "\n",
        "```\n",
        "編碼: a 我 -> 01001\n",
        "解碼: 01001 -> a\n",
        "\n",
        "亂碼: 編碼=/=亂碼\n",
        "\n",
        "現在的編碼只有一套: 萬國碼(Unicode)的utf-8\n",
        "\n",
        "英文在當初的編碼叫做ASCII, ASCII編碼和utf-8裡的英文編碼是一樣的\n",
        "\n",
        "ord(文字) -> 文字轉編碼\n",
        "chr(數字) -> 編碼轉文字\n",
        "\n",
        "```\n",
        "\n"
      ],
      "metadata": {
        "id": "o74jOaqGcnWc"
      }
    },
    {
      "cell_type": "code",
      "source": [
        "print(ord(\"我\"))\n",
        "print(chr(25105))"
      ],
      "metadata": {
        "colab": {
          "base_uri": "https://localhost:8080/"
        },
        "id": "XuAMwYf_e9db",
        "outputId": "64f13b6a-6a72-4fbc-ff92-6353d0ea33c6"
      },
      "execution_count": 6,
      "outputs": [
        {
          "output_type": "stream",
          "name": "stdout",
          "text": [
            "25105\n",
            "我\n"
          ]
        }
      ]
    },
    {
      "cell_type": "code",
      "source": [
        "# 雙層迴圈的練習\n",
        "# a b c d e f --- z\n",
        "# b c d e f g --- a\n",
        "# c d e f g h --- b\n",
        "line = \"\"\n",
        "# 做26次\n",
        "for i in range(26):\n",
        "    # 0-25 -> 97(a)-122()\n",
        "    n = i + 97\n",
        "    line = line + chr(n)\n",
        "print(line)"
      ],
      "metadata": {
        "colab": {
          "base_uri": "https://localhost:8080/"
        },
        "id": "k7ARDT4raZVQ",
        "outputId": "24e45ff7-5a54-4cd6-91e4-6ac4d6842632"
      },
      "execution_count": 7,
      "outputs": [
        {
          "output_type": "stream",
          "name": "stdout",
          "text": [
            "abcdefghijklmnopqrstuvwxyz\n"
          ]
        }
      ]
    },
    {
      "cell_type": "code",
      "source": [
        "# 退接\n",
        "# 0 1 ... 9\n",
        "# 1 2     0\n",
        "# 2 3     1"
      ],
      "metadata": {
        "id": "7R8OtZqAct4w"
      },
      "execution_count": null,
      "outputs": []
    }
  ]
}