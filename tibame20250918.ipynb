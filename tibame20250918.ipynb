{
  "nbformat": 4,
  "nbformat_minor": 0,
  "metadata": {
    "colab": {
      "provenance": [],
      "authorship_tag": "ABX9TyMqivDK3z0uE++X7WEdtajV",
      "include_colab_link": true
    },
    "kernelspec": {
      "name": "python3",
      "display_name": "Python 3"
    },
    "language_info": {
      "name": "python"
    }
  },
  "cells": [
    {
      "cell_type": "markdown",
      "metadata": {
        "id": "view-in-github",
        "colab_type": "text"
      },
      "source": [
        "<a href=\"https://colab.research.google.com/github/Elwing-Chou/tibame20250918/blob/main/tibame20250918.ipynb\" target=\"_parent\"><img src=\"https://colab.research.google.com/assets/colab-badge.svg\" alt=\"Open In Colab\"/></a>"
      ]
    },
    {
      "cell_type": "markdown",
      "source": [
        "\n",
        "```\n",
        "colab: 線上Jupyter Notebook\n",
        "\n",
        "python的工具:\n",
        ".py:\n",
        "最正宗的python檔案\n",
        "\n",
        ".ipynb:\n",
        "python的jupyter notebook工具所產生的檔案, 可以用很多獨立的段落寫\n",
        "\n",
        "\n",
        "```\n",
        "\n"
      ],
      "metadata": {
        "id": "MixuTa6hkZRC"
      }
    },
    {
      "cell_type": "markdown",
      "source": [
        "\n",
        "\n",
        "```\n",
        "最終目的:\n",
        "\n",
        "完全平方日: 把日期當成一個數字的話, 他會是一個整數的平方\n",
        "20241001: 4499 * 4499\n",
        "\n",
        "我給你一個日期: 20241001 以後的10個完全平方日\n",
        "\n",
        "1. 20241002(可否開根號) 20241003(是不是) 20241004(是不是)....\n",
        "2. 4499 * 4499(是否合理日期) 4500 * 4500(是否合理日期) 4501 * 4501(是否合理日期)\n",
        "\n",
        "而下一次就要等到48年後的20720704 是4552的平方\n",
        "\n",
        "1. 往後數幾次: 48年這麼多次 48 * 365: 17520重複次數\n",
        "2. 往後數幾次: 4552 - 4499: 103重複次數\n",
        "\n",
        "上面你的思考過程: 人們說的演算法(想法決定你的程式速度)\n",
        "\n",
        "走想法2, 因為比較快\n",
        "\n",
        "整數 -> 平方 -> check一下是否是一個合理日期\n",
        "\n",
        "check日期的難點:\n",
        "1. 年: >0\n",
        "2. 月: 1~12\n",
        "3. 日: a. 日期要看月份  b. 是否有閏年(二月天數)\n",
        "\n",
        "先解決b\n",
        "\n",
        "```\n",
        "\n"
      ],
      "metadata": {
        "id": "QkiKvOGPoBVQ"
      }
    },
    {
      "cell_type": "code",
      "execution_count": 5,
      "metadata": {
        "colab": {
          "base_uri": "https://localhost:8080/"
        },
        "id": "kutNr_-Pis5b",
        "outputId": "40245afb-f313-4b74-c2a3-f6b199d43e18"
      },
      "outputs": [
        {
          "output_type": "stream",
          "name": "stdout",
          "text": [
            "閏\n"
          ]
        }
      ],
      "source": [
        "# 外往內\n",
        "# year = 3: not leap\n",
        "# year = 4: leap\n",
        "# year = 100: not leap\n",
        "# year = 400: leap\n",
        "# year = 800: leap\n",
        "year = 400\n",
        "\n",
        "if year % 4 == 0:\n",
        "    if year % 100 == 0:\n",
        "        if year % 400 == 0:\n",
        "            print(\"閏\")\n",
        "        else:\n",
        "            print(\"平\")\n",
        "    else:\n",
        "        print(\"閏\")\n",
        "else:\n",
        "    print(\"平\")"
      ]
    },
    {
      "cell_type": "code",
      "source": [
        "# 內往外\n",
        "# year = 3: not leap\n",
        "# year = 4: leap\n",
        "# year = 100: not leap\n",
        "# year = 400: leap\n",
        "# year = 800: leap\n",
        "year = 400\n",
        "\n",
        "if year % 400 == 0:\n",
        "    print(\"閏\")\n",
        "elif year % 100 == 0:\n",
        "    print(\"平\")\n",
        "elif year % 4 == 0:\n",
        "    print(\"閏\")\n",
        "else:\n",
        "    print(\"平\")"
      ],
      "metadata": {
        "colab": {
          "base_uri": "https://localhost:8080/"
        },
        "id": "0UnzZoy41AIX",
        "outputId": "29a37a76-05aa-4921-dc80-baade9aefc1d"
      },
      "execution_count": 6,
      "outputs": [
        {
          "output_type": "stream",
          "name": "stdout",
          "text": [
            "閏\n"
          ]
        }
      ]
    },
    {
      "cell_type": "code",
      "source": [
        "# 定義函式\n",
        "# 定義參數: 先給個代號\n",
        "# 定義回傳值: return\n",
        "def add(n1, n2):\n",
        "    n3 = n1 + n2\n",
        "    return n3\n",
        "\n",
        "print(add(3, 5))\n",
        "print(add(4, 9))"
      ],
      "metadata": {
        "colab": {
          "base_uri": "https://localhost:8080/"
        },
        "id": "n_zMC3EI2-Yb",
        "outputId": "6f6932b2-c91a-4baf-a175-3e132a5f3a09"
      },
      "execution_count": 12,
      "outputs": [
        {
          "output_type": "stream",
          "name": "stdout",
          "text": [
            "8\n",
            "13\n"
          ]
        }
      ]
    },
    {
      "cell_type": "code",
      "source": [
        "def is_leap(year):\n",
        "    # 內往外\n",
        "    if year % 400 == 0:\n",
        "        leap = True\n",
        "    elif year % 100 == 0:\n",
        "        leap = False\n",
        "    elif year % 4 == 0:\n",
        "        leap = True\n",
        "    else:\n",
        "        leap = False\n",
        "\n",
        "    return leap\n",
        "\n",
        "print(is_leap(400))\n",
        "print(is_leap(3))"
      ],
      "metadata": {
        "colab": {
          "base_uri": "https://localhost:8080/"
        },
        "id": "6GU_nVU04ZAF",
        "outputId": "1b58cb26-9250-46fd-c8b8-f7c5e38e2ea5"
      },
      "execution_count": 16,
      "outputs": [
        {
          "output_type": "stream",
          "name": "stdout",
          "text": [
            "True\n",
            "False\n"
          ]
        }
      ]
    },
    {
      "cell_type": "code",
      "source": [
        "date_test = 20000229\n",
        "\n",
        "# 先把年月份拆分出來\n",
        "day = date_test % 100\n",
        "remain = date_test // 100\n",
        "month = remain % 100\n",
        "year = remain // 100\n",
        "print(day, month, year)\n",
        "\n",
        "# 幫我確認是否合理\n",
        "if year\n",
        "    if mont\n",
        "        day_per_month = [31, 28, 31, 30, 31, 30, 31, 31, 30, 31, 30, 31]\n",
        "        # day_per_month[0] [1] [2] ... [11]\n",
        "\n",
        "else:\n",
        "    print(\"不合理\")"
      ],
      "metadata": {
        "colab": {
          "base_uri": "https://localhost:8080/"
        },
        "id": "Z7XEqgPx7Qei",
        "outputId": "e51be7ea-ab00-41e3-d206-802f0181481c"
      },
      "execution_count": 20,
      "outputs": [
        {
          "output_type": "stream",
          "name": "stdout",
          "text": [
            "29 2 2000\n"
          ]
        }
      ]
    }
  ]
}