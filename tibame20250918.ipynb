{
  "nbformat": 4,
  "nbformat_minor": 0,
  "metadata": {
    "colab": {
      "provenance": [],
      "authorship_tag": "ABX9TyNrsAcnxCTV1faM2MVZb/yH",
      "include_colab_link": true
    },
    "kernelspec": {
      "name": "python3",
      "display_name": "Python 3"
    },
    "language_info": {
      "name": "python"
    }
  },
  "cells": [
    {
      "cell_type": "markdown",
      "metadata": {
        "id": "view-in-github",
        "colab_type": "text"
      },
      "source": [
        "<a href=\"https://colab.research.google.com/github/Elwing-Chou/tibame20250918/blob/main/tibame20250918.ipynb\" target=\"_parent\"><img src=\"https://colab.research.google.com/assets/colab-badge.svg\" alt=\"Open In Colab\"/></a>"
      ]
    },
    {
      "cell_type": "markdown",
      "source": [
        "\n",
        "```\n",
        "colab: 線上Jupyter Notebook\n",
        "\n",
        "python的工具:\n",
        ".py:\n",
        "最正宗的python檔案\n",
        "\n",
        ".ipynb:\n",
        "python的jupyter notebook工具所產生的檔案, 可以用很多獨立的段落寫\n",
        "\n",
        "\n",
        "```\n",
        "\n"
      ],
      "metadata": {
        "id": "MixuTa6hkZRC"
      }
    },
    {
      "cell_type": "markdown",
      "source": [
        "\n",
        "\n",
        "```\n",
        "最終目的:\n",
        "\n",
        "完全平方日: 把日期當成一個數字的話, 他會是一個整數的平方\n",
        "20241001: 4499 * 4499\n",
        "\n",
        "我給你一個日期: 20241001 以後的10個完全平方日\n",
        "\n",
        "1. 20241002(可否開根號) 20241003(是不是) 20241004(是不是)....\n",
        "2. 4499 * 4499(是否合理日期) 4500 * 4500(是否合理日期) 4501 * 4501(是否合理日期)\n",
        "\n",
        "而下一次就要等到48年後的20720704 是4552的平方\n",
        "\n",
        "1. 往後數幾次: 48年這麼多次 48 * 365: 17520重複次數\n",
        "2. 往後數幾次: 4552 - 4499: 103重複次數\n",
        "\n",
        "上面你的思考過程: 人們說的演算法(想法決定你的程式速度)\n",
        "\n",
        "走想法2, 因為比較快\n",
        "\n",
        "整數 -> 平方 -> check一下是否是一個合理日期\n",
        "\n",
        "check日期的難點:\n",
        "1. 年: >0\n",
        "2. 月: 1~12\n",
        "3. 日: a. 日期要看月份  b. 是否有閏年(二月天數)\n",
        "\n",
        "先解決b\n",
        "\n",
        "```\n",
        "\n"
      ],
      "metadata": {
        "id": "QkiKvOGPoBVQ"
      }
    },
    {
      "cell_type": "code",
      "execution_count": null,
      "metadata": {
        "id": "kutNr_-Pis5b"
      },
      "outputs": [],
      "source": [
        "# year = 3: not leap\n",
        "# year = 4: leap\n",
        "# year = 100: not leap\n",
        "# year = 400: leap\n",
        "# year = 800: leap\n",
        "year = 2000\n",
        "\n",
        "\n",
        "if year % 4 == 0\n",
        "\n",
        "else:\n",
        "    print(\"\")"
      ]
    }
  ]
}