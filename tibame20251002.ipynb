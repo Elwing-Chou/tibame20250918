{
  "nbformat": 4,
  "nbformat_minor": 0,
  "metadata": {
    "colab": {
      "provenance": [],
      "authorship_tag": "ABX9TyMbXBT2xH8+eQiOsas2p9vO",
      "include_colab_link": true
    },
    "kernelspec": {
      "name": "python3",
      "display_name": "Python 3"
    },
    "language_info": {
      "name": "python"
    }
  },
  "cells": [
    {
      "cell_type": "markdown",
      "metadata": {
        "id": "view-in-github",
        "colab_type": "text"
      },
      "source": [
        "<a href=\"https://colab.research.google.com/github/Elwing-Chou/tibame20250918/blob/main/tibame20251002.ipynb\" target=\"_parent\"><img src=\"https://colab.research.google.com/assets/colab-badge.svg\" alt=\"Open In Colab\"/></a>"
      ]
    },
    {
      "cell_type": "code",
      "execution_count": null,
      "metadata": {
        "id": "12-uibH8pB00"
      },
      "outputs": [],
      "source": [
        "import pygame as pg\n",
        "\n",
        "def check_win(board, board_i, board_j):\n",
        "    # 從下的位置檢查是否有贏家\n",
        "    # 檢查直/橫/斜的\n",
        "    # 預設回傳一個值\n",
        "    # 直的: 往上/往下\n",
        "    # 往下: 每下一個就看是不是同樣顏色, 同樣顏色+1, 不同顏色break\n",
        "    check_icon = board[board_i][board_j]\n",
        "\n",
        "    # 寫法1: 假設落位 i=1, j=2 board[1][2]是落位\n",
        "    # 那我就[2][2] [3][2] [4][2] 一路check到 [14][2]\n",
        "    count = 0\n",
        "    for i in range(board_i+1, len(board)):\n",
        "        if board[i][board_j] == check_icon:\n",
        "            count = count + 1\n",
        "        else:\n",
        "            break\n",
        "\n",
        "    # 寫法2: 我不管了, 就從落位一直往下, 如果我發現我現在檢查的i已經超出棋盤, 結束\n",
        "    count = 0\n",
        "    offset = 1\n",
        "    while True:\n",
        "        check_i, check_j = board_i + offset, board_j\n",
        "        # 如果這i, j在棋盤內\n",
        "        if 0 <= check_i < len(board) and 0 <= check_j < len(board):\n",
        "            # 如果這子跟我落子顏色一樣\n",
        "            if board[check_i][check_j] == check_icon:\n",
        "                count = count + 1\n",
        "            # 如果不一樣顏色\n",
        "            else:\n",
        "                break\n",
        "        else:\n",
        "            # 我這個offset加上去已經超出棋盤了 i >= 15 or i < 0\n",
        "            break\n",
        "        offset = offset + 1\n",
        "\n",
        "    if count >= 4:\n",
        "        return True\n",
        "    return False\n",
        "\n",
        "#pygame初始化\n",
        "pg.init()\n",
        "#設定視窗\n",
        "width, height = 640, 640\n",
        "# 產生視窗\n",
        "screen = pg.display.set_mode([width, height])\n",
        "# 設定遊戲標題\n",
        "pg.display.set_caption(\"五子棋\")\n",
        "# 建立畫布bg\n",
        "bg = pg.Surface(screen.get_size())\n",
        "# 把畫布填滿某個顏色\n",
        "bg.fill([199, 167, 82])\n",
        "\n",
        "# 畫棋盤直線\n",
        "# line(surface, color, start_pos, end_pos, width=1)\n",
        "i = 0\n",
        "while i < 15:\n",
        "    pg.draw.line(bg, [50, 50, 50], [40*i+40, 40], [40*i+40, 600], 2)\n",
        "    i = i + 1\n",
        "\n",
        "i = 0\n",
        "while i < 15:\n",
        "    pg.draw.line(bg, [50, 50, 50], [40, 40*i+40], [600, 40*i+40], 2)\n",
        "    i = i + 1\n",
        "\n",
        "# 把某個圖層貼到上一層\n",
        "screen.blit(bg, [0, 0])\n",
        "# 對畫面進行更新(才會真的秀出來)\n",
        "pg.display.update()\n",
        "\n",
        "# 紀錄回合\n",
        "PLAYER_UNSET = -1\n",
        "PLAYER_1 = 0\n",
        "PLAYER_2 = 1\n",
        "game_board = [[PLAYER_UNSET] * 15 for i in range(15)]\n",
        "game_round = 0\n",
        "\n",
        "running = True\n",
        "while running:\n",
        "    for event in pg.event.get():\n",
        "        # 如果滑鼠被點\n",
        "        if event.type == pg.MOUSEBUTTONUP:\n",
        "            x, y = pg.mouse.get_pos()\n",
        "            # 40 80 120 -> 1 2 3\n",
        "            # 如果位置是(60, 60) -> (1.5, 1.5)\n",
        "            x_inter, y_inter = x / 40, y / 40\n",
        "            # (1.5, 1.5) -> (2, 2)\n",
        "            x_line, y_line = round(x_inter), round(y_inter)\n",
        "            # 如果四捨五入以後是0th or 16th 沒在棋盤上\n",
        "            if 1 <= x_line <= 15 and 1 <= y_line <= 15:\n",
        "                # 1~x_line/y_line~15\n",
        "                # 如果你用小畫家畫出來 [y_line][x_line]\n",
        "                board_pos_i = y_line - 1\n",
        "                board_pos_j = x_line - 1\n",
        "\n",
        "                # 如果還沒被設置過\n",
        "                if game_board[board_pos_i][board_pos_j] == PLAYER_UNSET:\n",
        "                    # 第幾條線 -> 換回成座標\n",
        "                    circle_x, circle_y = x_line * 40, y_line * 40\n",
        "                    # circle(surface, color, center, radius)\n",
        "                    if game_round % 2 == 0:\n",
        "                        # !!!!\n",
        "                        player_icon = PLAYER_1\n",
        "                        player_color = [0, 0, 0]\n",
        "                    else:\n",
        "                        # !!!!\n",
        "                        player_icon = PLAYER_2\n",
        "                        player_color = [255, 255, 255]\n",
        "                    pg.draw.circle(bg, player_color, [circle_x, circle_y], 20)\n",
        "                    # 我在上面根據不同回合player_icon = 0 or 1\n",
        "                    game_board[board_pos_i][board_pos_j] = player_icon\n",
        "                    # 合理的落子: 回合+1\n",
        "                    game_round = game_round + 1\n",
        "                    # 要顯示記得在貼一次\n",
        "                    screen.blit(bg, [0, 0])\n",
        "                    pg.display.update()\n",
        "\n",
        "                    # 有贏家\n",
        "                    if check_win(game_board, board_pos_i, board_pos_j) == True:\n",
        "                        running = False\n",
        "\n",
        "        # 如果收到的事件是按x\n",
        "        if event.type == pg.QUIT:\n",
        "            # 迴圈就會變成while False\n",
        "            running = False\n",
        "        # 結束遊戲\n",
        "pg.quit()"
      ]
    },
    {
      "cell_type": "code",
      "source": [
        "# for i in range(10):\n",
        "#     print(i)\n",
        "\n",
        "for i in range(5, 10):\n",
        "    print(i)"
      ],
      "metadata": {
        "colab": {
          "base_uri": "https://localhost:8080/"
        },
        "id": "dOdYCMx5yh42",
        "outputId": "e155b036-0a85-4768-fd7b-4d9cca49ca4c"
      },
      "execution_count": 4,
      "outputs": [
        {
          "output_type": "stream",
          "name": "stdout",
          "text": [
            "5\n",
            "6\n",
            "7\n",
            "8\n",
            "9\n"
          ]
        }
      ]
    }
  ]
}