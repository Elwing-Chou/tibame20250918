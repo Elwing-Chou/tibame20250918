{
  "nbformat": 4,
  "nbformat_minor": 0,
  "metadata": {
    "colab": {
      "provenance": [],
      "authorship_tag": "ABX9TyMC0JcuHExI4peX5orhnLdw",
      "include_colab_link": true
    },
    "kernelspec": {
      "name": "python3",
      "display_name": "Python 3"
    },
    "language_info": {
      "name": "python"
    }
  },
  "cells": [
    {
      "cell_type": "markdown",
      "metadata": {
        "id": "view-in-github",
        "colab_type": "text"
      },
      "source": [
        "<a href=\"https://colab.research.google.com/github/Elwing-Chou/tibame20250918/blob/main/tibame20250925.ipynb\" target=\"_parent\"><img src=\"https://colab.research.google.com/assets/colab-badge.svg\" alt=\"Open In Colab\"/></a>"
      ]
    },
    {
      "cell_type": "code",
      "execution_count": 1,
      "metadata": {
        "colab": {
          "base_uri": "https://localhost:8080/"
        },
        "id": "ze2lThjG1Mxa",
        "outputId": "d0bc2c35-5841-4b56-ead5-ac648d84213a"
      },
      "outputs": [
        {
          "output_type": "stream",
          "name": "stdout",
          "text": [
            "2\n"
          ]
        }
      ],
      "source": [
        "count = 0\n",
        "scores = [20, 60, 80]\n",
        "i = 0\n",
        "while i < len(scores):\n",
        "    s = scores[i]\n",
        "    if s >= 60:\n",
        "        count = count + 1\n",
        "    i = i + 1\n",
        "print(count)"
      ]
    },
    {
      "cell_type": "code",
      "source": [
        "count = 0\n",
        "scores = [20, 60, 80]\n",
        "for s in scores:\n",
        "    if s >= 60:\n",
        "        count = count + 1\n",
        "print(count)"
      ],
      "metadata": {
        "colab": {
          "base_uri": "https://localhost:8080/"
        },
        "id": "Fr5oDWjq1wzs",
        "outputId": "b585594b-1696-4af6-a666-88588f44677f"
      },
      "execution_count": 2,
      "outputs": [
        {
          "output_type": "stream",
          "name": "stdout",
          "text": [
            "2\n"
          ]
        }
      ]
    },
    {
      "cell_type": "code",
      "source": [
        "i = 0\n",
        "while i < 5:\n",
        "    print(i, \"hello\")\n",
        "    i = i + 1"
      ],
      "metadata": {
        "id": "i9jKDaTn2W8u"
      },
      "execution_count": null,
      "outputs": []
    },
    {
      "cell_type": "code",
      "source": [
        "for i in range(5):\n",
        "    print(i, \"hello\")"
      ],
      "metadata": {
        "colab": {
          "base_uri": "https://localhost:8080/"
        },
        "id": "yeztb1rx2ezx",
        "outputId": "94d6dbaa-8339-4f3d-a30f-4629f353f456"
      },
      "execution_count": 4,
      "outputs": [
        {
          "output_type": "stream",
          "name": "stdout",
          "text": [
            "0 hello\n",
            "1 hello\n",
            "2 hello\n",
            "3 hello\n",
            "4 hello\n"
          ]
        }
      ]
    }
  ]
}